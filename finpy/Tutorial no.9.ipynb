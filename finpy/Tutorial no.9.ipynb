{
 "cells": [
  {
   "cell_type": "code",
   "execution_count": 1,
   "metadata": {},
   "outputs": [],
   "source": [
    "import random\n",
    "import matplotlib.pyplot as plt\n",
    "import numpy as np\n",
    "import pandas as pd\n",
    "import math\n",
    "import quandl\n",
    "from scipy.stats import norm\n",
    "quandl.ApiConfig.api_key = 'nsqaaHBqkWMWVvYEH9-9'"
   ]
  },
  {
   "cell_type": "code",
   "execution_count": 5,
   "metadata": {},
   "outputs": [],
   "source": [
    "aapl_table = quandl.get('WIKI/AAPL')\n",
    "googl_table = quandl.get('WIKI/GOOGL')\n",
    "aapl = aapl_table.loc['2017':'2017-6',['Close']]\n",
    "googl = googl_table.loc['2017':'2017-6',['Close']]\n",
    "aapl_log = np.log(aapl.Close).diff().dropna()\n",
    "googl_log = np.log(googl.Close).diff().dropna()"
   ]
  },
  {
   "cell_type": "code",
   "execution_count": 8,
   "metadata": {},
   "outputs": [],
   "source": [
    "df = pd.concat([aapl_log, googl_log], axis = 1).dropna()\n",
    "df.columns = ['aapl', 'googl']"
   ]
  },
  {
   "cell_type": "code",
   "execution_count": 9,
   "metadata": {},
   "outputs": [
    {
     "data": {
      "text/html": [
       "<div>\n",
       "<style scoped>\n",
       "    .dataframe tbody tr th:only-of-type {\n",
       "        vertical-align: middle;\n",
       "    }\n",
       "\n",
       "    .dataframe tbody tr th {\n",
       "        vertical-align: top;\n",
       "    }\n",
       "\n",
       "    .dataframe thead th {\n",
       "        text-align: right;\n",
       "    }\n",
       "</style>\n",
       "<table border=\"1\" class=\"dataframe\">\n",
       "  <thead>\n",
       "    <tr style=\"text-align: right;\">\n",
       "      <th></th>\n",
       "      <th>aapl</th>\n",
       "      <th>googl</th>\n",
       "    </tr>\n",
       "    <tr>\n",
       "      <th>Date</th>\n",
       "      <th></th>\n",
       "      <th></th>\n",
       "    </tr>\n",
       "  </thead>\n",
       "  <tbody>\n",
       "    <tr>\n",
       "      <th>2017-01-04</th>\n",
       "      <td>-0.001120</td>\n",
       "      <td>-0.000297</td>\n",
       "    </tr>\n",
       "    <tr>\n",
       "      <th>2017-01-05</th>\n",
       "      <td>0.005072</td>\n",
       "      <td>0.006478</td>\n",
       "    </tr>\n",
       "    <tr>\n",
       "      <th>2017-01-06</th>\n",
       "      <td>0.011087</td>\n",
       "      <td>0.014882</td>\n",
       "    </tr>\n",
       "    <tr>\n",
       "      <th>2017-01-09</th>\n",
       "      <td>0.009118</td>\n",
       "      <td>0.002384</td>\n",
       "    </tr>\n",
       "    <tr>\n",
       "      <th>2017-01-10</th>\n",
       "      <td>0.001008</td>\n",
       "      <td>-0.001415</td>\n",
       "    </tr>\n",
       "    <tr>\n",
       "      <th>...</th>\n",
       "      <td>...</td>\n",
       "      <td>...</td>\n",
       "    </tr>\n",
       "    <tr>\n",
       "      <th>2017-06-26</th>\n",
       "      <td>-0.003628</td>\n",
       "      <td>-0.014299</td>\n",
       "    </tr>\n",
       "    <tr>\n",
       "      <th>2017-06-27</th>\n",
       "      <td>-0.014367</td>\n",
       "      <td>-0.024999</td>\n",
       "    </tr>\n",
       "    <tr>\n",
       "      <th>2017-06-28</th>\n",
       "      <td>0.014435</td>\n",
       "      <td>0.013535</td>\n",
       "    </tr>\n",
       "    <tr>\n",
       "      <th>2017-06-29</th>\n",
       "      <td>-0.014853</td>\n",
       "      <td>-0.024427</td>\n",
       "    </tr>\n",
       "    <tr>\n",
       "      <th>2017-06-30</th>\n",
       "      <td>0.002364</td>\n",
       "      <td>-0.008718</td>\n",
       "    </tr>\n",
       "  </tbody>\n",
       "</table>\n",
       "<p>124 rows × 2 columns</p>\n",
       "</div>"
      ],
      "text/plain": [
       "                aapl     googl\n",
       "Date                          \n",
       "2017-01-04 -0.001120 -0.000297\n",
       "2017-01-05  0.005072  0.006478\n",
       "2017-01-06  0.011087  0.014882\n",
       "2017-01-09  0.009118  0.002384\n",
       "2017-01-10  0.001008 -0.001415\n",
       "...              ...       ...\n",
       "2017-06-26 -0.003628 -0.014299\n",
       "2017-06-27 -0.014367 -0.024999\n",
       "2017-06-28  0.014435  0.013535\n",
       "2017-06-29 -0.014853 -0.024427\n",
       "2017-06-30  0.002364 -0.008718\n",
       "\n",
       "[124 rows x 2 columns]"
      ]
     },
     "execution_count": 9,
     "metadata": {},
     "output_type": "execute_result"
    }
   ],
   "source": [
    "df"
   ]
  },
  {
   "cell_type": "code",
   "execution_count": 20,
   "metadata": {},
   "outputs": [
    {
     "data": {
      "text/plain": [
       "<matplotlib.collections.PathCollection at 0x7fdccbc36670>"
      ]
     },
     "execution_count": 20,
     "metadata": {},
     "output_type": "execute_result"
    },
    {
     "data": {
      "image/png": "[encoded data removed]",
      "text/plain": [
       "<Figure size 1440x720 with 1 Axes>"
      ]
     },
     "metadata": {
      "needs_background": "light"
     },
     "output_type": "display_data"
    }
   ],
   "source": [
    "plt.figure(figsize = (20,10))\n",
    "plt.scatter(df.googl,df.aapl)"
   ]
  },
  {
   "cell_type": "code",
   "execution_count": 21,
   "metadata": {},
   "outputs": [
    {
     "data": {
      "text/html": [
       "<table class=\"simpletable\">\n",
       "<caption>OLS Regression Results</caption>\n",
       "<tr>\n",
       "  <th>Dep. Variable:</th>          <td>aapl</td>       <th>  R-squared:         </th> <td>   0.224</td>\n",
       "</tr>\n",
       "<tr>\n",
       "  <th>Model:</th>                   <td>OLS</td>       <th>  Adj. R-squared:    </th> <td>   0.217</td>\n",
       "</tr>\n",
       "<tr>\n",
       "  <th>Method:</th>             <td>Least Squares</td>  <th>  F-statistic:       </th> <td>   35.15</td>\n",
       "</tr>\n",
       "<tr>\n",
       "  <th>Date:</th>             <td>Fri, 11 Jun 2021</td> <th>  Prob (F-statistic):</th> <td>2.91e-08</td>\n",
       "</tr>\n",
       "<tr>\n",
       "  <th>Time:</th>                 <td>08:13:19</td>     <th>  Log-Likelihood:    </th> <td>  402.19</td>\n",
       "</tr>\n",
       "<tr>\n",
       "  <th>No. Observations:</th>      <td>   124</td>      <th>  AIC:               </th> <td>  -800.4</td>\n",
       "</tr>\n",
       "<tr>\n",
       "  <th>Df Residuals:</th>          <td>   122</td>      <th>  BIC:               </th> <td>  -794.7</td>\n",
       "</tr>\n",
       "<tr>\n",
       "  <th>Df Model:</th>              <td>     1</td>      <th>                     </th>     <td> </td>   \n",
       "</tr>\n",
       "<tr>\n",
       "  <th>Covariance Type:</th>      <td>nonrobust</td>    <th>                     </th>     <td> </td>   \n",
       "</tr>\n",
       "</table>\n",
       "<table class=\"simpletable\">\n",
       "<tr>\n",
       "      <td></td>         <th>coef</th>     <th>std err</th>      <th>t</th>      <th>P>|t|</th>  <th>[0.025</th>    <th>0.975]</th>  \n",
       "</tr>\n",
       "<tr>\n",
       "  <th>Intercept</th> <td>    0.0011</td> <td>    0.001</td> <td>    1.309</td> <td> 0.193</td> <td>   -0.001</td> <td>    0.003</td>\n",
       "</tr>\n",
       "<tr>\n",
       "  <th>googl</th>     <td>    0.5368</td> <td>    0.091</td> <td>    5.929</td> <td> 0.000</td> <td>    0.358</td> <td>    0.716</td>\n",
       "</tr>\n",
       "</table>\n",
       "<table class=\"simpletable\">\n",
       "<tr>\n",
       "  <th>Omnibus:</th>       <td>85.224</td> <th>  Durbin-Watson:     </th> <td>   2.061</td> \n",
       "</tr>\n",
       "<tr>\n",
       "  <th>Prob(Omnibus):</th> <td> 0.000</td> <th>  Jarque-Bera (JB):  </th> <td> 986.370</td> \n",
       "</tr>\n",
       "<tr>\n",
       "  <th>Skew:</th>          <td> 2.076</td> <th>  Prob(JB):          </th> <td>6.49e-215</td>\n",
       "</tr>\n",
       "<tr>\n",
       "  <th>Kurtosis:</th>      <td>16.178</td> <th>  Cond. No.          </th> <td>    106.</td> \n",
       "</tr>\n",
       "</table><br/><br/>Notes:<br/>[1] Standard Errors assume that the covariance matrix of the errors is correctly specified."
      ],
      "text/plain": [
       "<class 'statsmodels.iolib.summary.Summary'>\n",
       "\"\"\"\n",
       "                            OLS Regression Results                            \n",
       "==============================================================================\n",
       "Dep. Variable:                   aapl   R-squared:                       0.224\n",
       "Model:                            OLS   Adj. R-squared:                  0.217\n",
       "Method:                 Least Squares   F-statistic:                     35.15\n",
       "Date:                Fri, 11 Jun 2021   Prob (F-statistic):           2.91e-08\n",
       "Time:                        08:13:19   Log-Likelihood:                 402.19\n",
       "No. Observations:                 124   AIC:                            -800.4\n",
       "Df Residuals:                     122   BIC:                            -794.7\n",
       "Df Model:                           1                                         \n",
       "Covariance Type:            nonrobust                                         \n",
       "==============================================================================\n",
       "                 coef    std err          t      P>|t|      [0.025      0.975]\n",
       "------------------------------------------------------------------------------\n",
       "Intercept      0.0011      0.001      1.309      0.193      -0.001       0.003\n",
       "googl          0.5368      0.091      5.929      0.000       0.358       0.716\n",
       "==============================================================================\n",
       "Omnibus:                       85.224   Durbin-Watson:                   2.061\n",
       "Prob(Omnibus):                  0.000   Jarque-Bera (JB):              986.370\n",
       "Skew:                           2.076   Prob(JB):                    6.49e-215\n",
       "Kurtosis:                      16.178   Cond. No.                         106.\n",
       "==============================================================================\n",
       "\n",
       "Notes:\n",
       "[1] Standard Errors assume that the covariance matrix of the errors is correctly specified.\n",
       "\"\"\""
      ]
     },
     "execution_count": 21,
     "metadata": {},
     "output_type": "execute_result"
    }
   ],
   "source": [
    "import statsmodels.formula.api as sm\n",
    "model = sm.ols(formula = 'aapl ~ googl', data = df).fit()\n",
    "model.summary()"
   ]
  },
  {
   "cell_type": "code",
   "execution_count": 22,
   "metadata": {},
   "outputs": [
    {
     "data": {
      "text/plain": [
       "Intercept    0.001127\n",
       "googl        0.536839\n",
       "dtype: float64"
      ]
     },
     "execution_count": 22,
     "metadata": {},
     "output_type": "execute_result"
    }
   ],
   "source": [
    "model.params"
   ]
  },
  {
   "cell_type": "code",
   "execution_count": 23,
   "metadata": {},
   "outputs": [
    {
     "data": {
      "text/plain": [
       "Date\n",
       "2017-06-26    0.002921\n",
       "2017-06-27   -0.002074\n",
       "2017-06-28    0.006042\n",
       "2017-06-29   -0.002867\n",
       "2017-06-30    0.005916\n",
       "dtype: float64"
      ]
     },
     "execution_count": 23,
     "metadata": {},
     "output_type": "execute_result"
    }
   ],
   "source": [
    "model.resid.tail()"
   ]
  },
  {
   "cell_type": "code",
   "execution_count": 24,
   "metadata": {},
   "outputs": [
    {
     "data": {
      "text/plain": [
       "array([ 9.67693792e-04,  4.60500280e-03,  9.11651692e-03,  2.40722633e-03,\n",
       "        3.67305952e-04,  3.62354619e-03,  9.13652127e-04,  2.03889479e-03,\n",
       "       -1.12584640e-03,  2.13831627e-03, -1.89245273e-03,  3.59609072e-03,\n",
       "        1.15651516e-02,  4.35970315e-03,  6.73455684e-03,  2.07107261e-04,\n",
       "       -6.41136687e-03, -1.25128032e-02, -1.25004677e-03, -2.12256904e-03,\n",
       "        3.11218219e-03,  2.35263174e-03,  2.10160945e-03,  6.07659381e-03,\n",
       "        1.54781457e-03,  1.24359990e-03,  4.21618927e-03,  3.76356980e-03,\n",
       "        1.81141517e-03, -6.07510836e-04,  4.22773035e-03,  3.91195805e-03,\n",
       "        2.84929430e-03,  2.44667746e-03,  9.00120689e-04, -8.88967208e-04,\n",
       "        2.30364781e-03, -1.87604320e-03,  8.58514650e-03, -3.21386942e-03,\n",
       "        6.40553165e-04, -1.84393029e-05,  3.57997008e-03,  2.69537850e-03,\n",
       "        3.76200284e-03,  3.35353929e-03,  3.10223815e-03,  1.95236835e-03,\n",
       "        2.66250379e-03,  2.12155430e-03,  2.58760867e-03, -1.62446318e-03,\n",
       "       -9.97841130e-03,  9.12429422e-04, -5.32342873e-03, -1.76411638e-03,\n",
       "        3.28909527e-03,  2.48274746e-03,  6.99578484e-03,  8.80764003e-04,\n",
       "        6.44249162e-05,  6.76473778e-03, -1.49842423e-03, -1.18238698e-03,\n",
       "       -1.29081936e-03, -7.78754397e-04,  8.72111881e-04, -3.48866327e-05,\n",
       "        2.13613738e-03,  3.09929529e-04,  1.05955949e-02,  4.11018350e-04,\n",
       "        2.70897451e-03,  3.36011013e-03,  4.21392737e-04,  1.34715481e-02,\n",
       "        7.14620580e-03,  1.30833537e-03,  2.51405906e-03,  2.06877448e-02,\n",
       "        5.92521264e-03,  3.57895674e-03,  7.59594885e-03,  4.66442320e-03,\n",
       "       -1.37526376e-03,  5.85731264e-03,  1.72821841e-05,  7.68315975e-05,\n",
       "        1.71718942e-03,  7.05798396e-04,  3.41546499e-03,  4.13530891e-03,\n",
       "       -1.15090305e-02,  5.85266646e-03,  3.46597707e-03,  6.39846473e-03,\n",
       "        4.72346716e-03,  5.01812823e-03,  8.89585497e-03,  1.88978627e-03,\n",
       "        2.69227147e-03, -3.78850629e-03,  1.77940897e-03,  5.36366963e-03,\n",
       "        5.29306648e-03, -2.73700486e-03,  3.76534093e-03,  2.56704524e-03,\n",
       "       -1.74508866e-02, -3.49117471e-03,  5.95576114e-03, -2.96327509e-04,\n",
       "       -3.18848030e-03,  2.54263118e-04,  1.03438101e-02, -2.31332002e-03,\n",
       "        6.41958575e-03,  4.53720412e-05,  6.30767059e-03, -6.54921869e-03,\n",
       "       -1.22932502e-02,  8.39349660e-03, -1.19860834e-02, -3.55277316e-03])"
      ]
     },
     "execution_count": 24,
     "metadata": {},
     "output_type": "execute_result"
    }
   ],
   "source": [
    "model.predict()"
   ]
  },
  {
   "cell_type": "code",
   "execution_count": 25,
   "metadata": {},
   "outputs": [
    {
     "data": {
      "image/png": "[encoded data removed]",
      "text/plain": [
       "<Figure size 1440x720 with 1 Axes>"
      ]
     },
     "metadata": {
      "needs_background": "light"
     },
     "output_type": "display_data"
    }
   ],
   "source": [
    "plt.figure(figsize = (20,10))\n",
    "plt.scatter(df.googl, df.aapl)\n",
    "plt.xlabel('googl return')\n",
    "plt.ylabel('aapl return')\n",
    "plt.plot(df.googl, model.predict(), color ='red')\n",
    "plt.show()"
   ]
  },
  {
   "cell_type": "code",
   "execution_count": null,
   "metadata": {},
   "outputs": [],
   "source": []
  }
 ],
 "metadata": {
  "kernelspec": {
   "display_name": "Python 3",
   "language": "python",
   "name": "python3"
  },
  "language_info": {
   "codemirror_mode": {
    "name": "ipython",
    "version": 3
   },
   "file_extension": ".py",
   "mimetype": "text/x-python",
   "name": "python",
   "nbconvert_exporter": "python",
   "pygments_lexer": "ipython3",
   "version": "3.8.5"
  }
 },
 "nbformat": 4,
 "nbformat_minor": 4
}
